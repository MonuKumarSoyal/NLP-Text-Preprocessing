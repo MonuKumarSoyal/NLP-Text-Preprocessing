{
 "cells": [
  {
   "cell_type": "code",
   "execution_count": 1,
   "metadata": {},
   "outputs": [],
   "source": [
    "import nltk\n",
    "from gensim.models import Word2Vec\n",
    "from nltk.corpus import stopwords\n",
    "import re"
   ]
  },
  {
   "cell_type": "code",
   "execution_count": 2,
   "metadata": {},
   "outputs": [],
   "source": [
    "paragraph = \"\"\"I have three visions for India. In 3000 years of our history, people from all over \n",
    "               the world have come and invaded us, captured our lands, conquered our minds. \n",
    "               From Alexander onwards, the Greeks, the Turks, the Moguls, the Portuguese, the British,\n",
    "               the French, the Dutch, all of them came and looted us, took over what was ours. \n",
    "               Yet we have not done this to any other nation. We have not conquered anyone. \n",
    "               We have not grabbed their land, their culture, \n",
    "               their history and tried to enforce our way of life on them. \n",
    "               Why? Because we respect the freedom of others.That is why my \n",
    "               first vision is that of freedom. I believe that India got its first vision of \n",
    "               this in 1857, when we started the War of Independence. It is this freedom that\n",
    "               we must protect and nurture and build on. If we are not free, no one will respect us.\n",
    "               My second vision for India’s development. For fifty years we have been a developing nation.\n",
    "               It is time we see ourselves as a developed nation. We are among the top 5 nations of the world\n",
    "               in terms of GDP. We have a 10 percent growth rate in most areas. Our poverty levels are falling.\n",
    "               Our achievements are being globally recognised today. Yet we lack the self-confidence to\n",
    "               see ourselves as a developed nation, self-reliant and self-assured. Isn’t this incorrect?\n",
    "               I have a third vision. India must stand up to the world. Because I believe that unless India \n",
    "               stands up to the world, no one will respect us. Only strength respects strength. We must be \n",
    "               strong not only as a military power but also as an economic power. Both must go hand-in-hand. \n",
    "               My good fortune was to have worked with three great minds. Dr. Vikram Sarabhai of the Dept. of \n",
    "               space, Professor Satish Dhawan, who succeeded him and Dr. Brahm Prakash, father of nuclear material.\n",
    "               I was lucky to have worked with all three of them closely and consider this the great opportunity of my life. \n",
    "               I see four milestones in my career\"\"\""
   ]
  },
  {
   "cell_type": "code",
   "execution_count": 3,
   "metadata": {},
   "outputs": [],
   "source": [
    "from nltk.stem import WordNetLemmatizer"
   ]
  },
  {
   "cell_type": "code",
   "execution_count": 4,
   "metadata": {},
   "outputs": [
    {
     "name": "stdout",
     "output_type": "stream",
     "text": [
      "i have three visions for india. in years of our history, people from all over the world have come and invaded us, captured our lands, conquered our minds. from alexander onwards, the greeks, the turks, the moguls, the portuguese, the british, the french, the dutch, all of them came and looted us, took over what was ours. yet we have not done this to any other nation. we have not conquered anyone. we have not grabbed their land, their culture, their history and tried to enforce our way of life on them. why? because we respect the freedom of others.that is why my first vision is that of freedom. i believe that india got its first vision of this in , when we started the war of independence. it is this freedom that we must protect and nurture and build on. if we are not free, no one will respect us. my second vision for india’s development. for fifty years we have been a developing nation. it is time we see ourselves as a developed nation. we are among the top nations of the world in terms of gdp. we have a percent growth rate in most areas. our poverty levels are falling. our achievements are being globally recognised today. yet we lack the self-confidence to see ourselves as a developed nation, self-reliant and self-assured. isn’t this incorrect? i have a third vision. india must stand up to the world. because i believe that unless india stands up to the world, no one will respect us. only strength respects strength. we must be strong not only as a military power but also as an economic power. both must go hand-in-hand. my good fortune was to have worked with three great minds. dr. vikram sarabhai of the dept. of space, professor satish dhawan, who succeeded him and dr. brahm prakash, father of nuclear material. i was lucky to have worked with all three of them closely and consider this the great opportunity of my life. i see four milestones in my career\n"
     ]
    }
   ],
   "source": [
    "wordnet = WordNetLemmatizer()\n",
    "\n",
    "text = re.sub('\\[[0-9]*\\]', ' ', paragraph)\n",
    "text = re.sub('\\s+', ' ', text)\n",
    "text = text.lower()\n",
    "text = re.sub('\\d', ' ', text)\n",
    "text = re.sub('\\s+', ' ', text)\n",
    "\n",
    "print(text)"
   ]
  },
  {
   "cell_type": "code",
   "execution_count": 5,
   "metadata": {},
   "outputs": [],
   "source": [
    "sentences = nltk.sent_tokenize(text)\n",
    "word_list = []\n",
    "\n",
    "for i in range(len(sentences)):\n",
    "    sentence = sentences[i].lower()\n",
    "    sentence = sentence.split()\n",
    "    sentence = [word for word in sentence if word not in set(stopwords.words('english'))] \n",
    "    word_list.append(sentence)"
   ]
  },
  {
   "cell_type": "code",
   "execution_count": 6,
   "metadata": {},
   "outputs": [
    {
     "name": "stdout",
     "output_type": "stream",
     "text": [
      "[['three', 'visions', 'india.'], ['years', 'history,', 'people', 'world', 'come', 'invaded', 'us,', 'captured', 'lands,', 'conquered', 'minds.'], ['alexander', 'onwards,', 'greeks,', 'turks,', 'moguls,', 'portuguese,', 'british,', 'french,', 'dutch,', 'came', 'looted', 'us,', 'took', 'ours.'], ['yet', 'done', 'nation.'], ['conquered', 'anyone.'], ['grabbed', 'land,', 'culture,', 'history', 'tried', 'enforce', 'way', 'life', 'them.'], ['why?'], ['respect', 'freedom', 'others.that', 'first', 'vision', 'freedom.'], ['believe', 'india', 'got', 'first', 'vision', ',', 'started', 'war', 'independence.'], ['freedom', 'must', 'protect', 'nurture', 'build', 'on.'], ['free,', 'one', 'respect', 'us.'], ['second', 'vision', 'india’s', 'development.'], ['fifty', 'years', 'developing', 'nation.'], ['time', 'see', 'developed', 'nation.'], ['among', 'top', 'nations', 'world', 'terms', 'gdp.'], ['percent', 'growth', 'rate', 'areas.'], ['poverty', 'levels', 'falling.'], ['achievements', 'globally', 'recognised', 'today.'], ['yet', 'lack', 'self-confidence', 'see', 'developed', 'nation,', 'self-reliant', 'self-assured.'], ['isn’t', 'incorrect?'], ['third', 'vision.'], ['india', 'must', 'stand', 'world.'], ['believe', 'unless', 'india', 'stands', 'world,', 'one', 'respect', 'us.'], ['strength', 'respects', 'strength.'], ['must', 'strong', 'military', 'power', 'also', 'economic', 'power.'], ['must', 'go', 'hand-in-hand.'], ['good', 'fortune', 'worked', 'three', 'great', 'minds.'], ['dr.', 'vikram', 'sarabhai', 'dept.'], ['space,', 'professor', 'satish', 'dhawan,', 'succeeded', 'dr.', 'brahm', 'prakash,', 'father', 'nuclear', 'material.'], ['lucky', 'worked', 'three', 'closely', 'consider', 'great', 'opportunity', 'life.'], ['see', 'four', 'milestones', 'career']]\n"
     ]
    }
   ],
   "source": [
    "print(word_list)"
   ]
  },
  {
   "cell_type": "code",
   "execution_count": 7,
   "metadata": {},
   "outputs": [],
   "source": [
    "word_list1 = []\n",
    "\n",
    "for i in range(len(word_list)):\n",
    "    for word in word_list[i]:\n",
    "        word_list1.append(word)"
   ]
  },
  {
   "cell_type": "code",
   "execution_count": 8,
   "metadata": {},
   "outputs": [
    {
     "name": "stdout",
     "output_type": "stream",
     "text": [
      "['three', 'visions', 'india.', 'years', 'history,', 'people', 'world', 'come', 'invaded', 'us,', 'captured', 'lands,', 'conquered', 'minds.', 'alexander', 'onwards,', 'greeks,', 'turks,', 'moguls,', 'portuguese,', 'british,', 'french,', 'dutch,', 'came', 'looted', 'us,', 'took', 'ours.', 'yet', 'done', 'nation.', 'conquered', 'anyone.', 'grabbed', 'land,', 'culture,', 'history', 'tried', 'enforce', 'way', 'life', 'them.', 'why?', 'respect', 'freedom', 'others.that', 'first', 'vision', 'freedom.', 'believe', 'india', 'got', 'first', 'vision', ',', 'started', 'war', 'independence.', 'freedom', 'must', 'protect', 'nurture', 'build', 'on.', 'free,', 'one', 'respect', 'us.', 'second', 'vision', 'india’s', 'development.', 'fifty', 'years', 'developing', 'nation.', 'time', 'see', 'developed', 'nation.', 'among', 'top', 'nations', 'world', 'terms', 'gdp.', 'percent', 'growth', 'rate', 'areas.', 'poverty', 'levels', 'falling.', 'achievements', 'globally', 'recognised', 'today.', 'yet', 'lack', 'self-confidence', 'see', 'developed', 'nation,', 'self-reliant', 'self-assured.', 'isn’t', 'incorrect?', 'third', 'vision.', 'india', 'must', 'stand', 'world.', 'believe', 'unless', 'india', 'stands', 'world,', 'one', 'respect', 'us.', 'strength', 'respects', 'strength.', 'must', 'strong', 'military', 'power', 'also', 'economic', 'power.', 'must', 'go', 'hand-in-hand.', 'good', 'fortune', 'worked', 'three', 'great', 'minds.', 'dr.', 'vikram', 'sarabhai', 'dept.', 'space,', 'professor', 'satish', 'dhawan,', 'succeeded', 'dr.', 'brahm', 'prakash,', 'father', 'nuclear', 'material.', 'lucky', 'worked', 'three', 'closely', 'consider', 'great', 'opportunity', 'life.', 'see', 'four', 'milestones', 'career']\n"
     ]
    }
   ],
   "source": [
    "print(word_list1)"
   ]
  },
  {
   "cell_type": "code",
   "execution_count": 9,
   "metadata": {},
   "outputs": [
    {
     "name": "stdout",
     "output_type": "stream",
     "text": [
      "[-0.00949751  0.00954687 -0.00778814 -0.0026407  -0.00489599 -0.0049702\n",
      " -0.00801811 -0.00774764 -0.00456309 -0.00126817 -0.00511917  0.00613471\n",
      " -0.00952886 -0.00529219  0.00944647  0.00699729  0.00766082  0.00420865\n",
      "  0.00050288 -0.00601607  0.00601888  0.00264544  0.00769548  0.00640019\n",
      "  0.00793695  0.00866066 -0.00991683 -0.00675085  0.00132791  0.00645103\n",
      "  0.00738571  0.00551255  0.0076926  -0.00513524  0.00657188 -0.00408581\n",
      " -0.00905435  0.00914016  0.00131918 -0.00276497 -0.00246672 -0.00421735\n",
      "  0.00478905  0.00441949 -0.00263782 -0.00733995 -0.00357643 -0.0003444\n",
      "  0.00611064 -0.0028272  -0.00012389  0.00087244 -0.00708598  0.0020461\n",
      " -0.00142336  0.00280563  0.00483877 -0.00133753 -0.00277903  0.00775878\n",
      "  0.00503623  0.00670702  0.00452279  0.00866704  0.00744383 -0.00107579\n",
      "  0.00876924  0.00462745  0.00542384 -0.00134888 -0.00206838 -0.00441876\n",
      " -0.00850901  0.0030336   0.00889079  0.00890187 -0.00193318  0.00609185\n",
      "  0.00376723 -0.00428531  0.00202543 -0.00542758  0.00819436  0.0054498\n",
      "  0.00316113  0.00408662  0.00866945  0.00728332 -0.00081084 -0.00707125\n",
      "  0.00837782  0.00725588  0.00174961 -0.00133376 -0.00587642 -0.00452734\n",
      "  0.00867149 -0.00311432 -0.00632204  0.00987324]\n"
     ]
    }
   ],
   "source": [
    "model = Word2Vec(word_list, min_count = 1)\n",
    "vector = model.wv[\"great\"]                # finding the vector corresponds to great word\n",
    "print(vector)"
   ]
  },
  {
   "cell_type": "code",
   "execution_count": 10,
   "metadata": {},
   "outputs": [
    {
     "data": {
      "text/plain": [
       "[('invaded', 0.25498881936073303),\n",
       " ('self-assured.', 0.23463964462280273),\n",
       " ('terms', 0.23218567669391632),\n",
       " ('greeks,', 0.22519667446613312),\n",
       " ('nation,', 0.2249724417924881),\n",
       " ('grabbed', 0.1705726683139801),\n",
       " ('french,', 0.1565486490726471),\n",
       " ('great', 0.15330316126346588),\n",
       " ('tried', 0.1491885632276535),\n",
       " ('second', 0.1461530327796936)]"
      ]
     },
     "execution_count": 10,
     "metadata": {},
     "output_type": "execute_result"
    }
   ],
   "source": [
    "similarity = model.wv.most_similar(\"vikram\")\n",
    "similarity"
   ]
  }
 ],
 "metadata": {
  "kernelspec": {
   "display_name": "Python 3.10.5 64-bit",
   "language": "python",
   "name": "python3"
  },
  "language_info": {
   "codemirror_mode": {
    "name": "ipython",
    "version": 3
   },
   "file_extension": ".py",
   "mimetype": "text/x-python",
   "name": "python",
   "nbconvert_exporter": "python",
   "pygments_lexer": "ipython3",
   "version": "3.10.5"
  },
  "orig_nbformat": 4,
  "vscode": {
   "interpreter": {
    "hash": "26de051ba29f2982a8de78e945f0abaf191376122a1563185a90213a26c5da77"
   }
  }
 },
 "nbformat": 4,
 "nbformat_minor": 2
}
